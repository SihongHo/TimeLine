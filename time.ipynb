{
 "cells": [
  {
   "cell_type": "code",
   "execution_count": 2,
   "metadata": {},
   "outputs": [],
   "source": [
    "import numpy as np"
   ]
  },
  {
   "cell_type": "code",
   "execution_count": 47,
   "metadata": {},
   "outputs": [],
   "source": [
    "def get_time_line(start_time):\n",
    "    # get_up_time = 8\n",
    "    first_pick = 6\n",
    "    second_pick = 4\n",
    "    dip = 4\n",
    "    sleep_time = 7\n",
    "    warm_up_time = 1.5\n",
    "    cool_down_time = 1.5\n",
    "    time_list = [warm_up_time, first_pick, dip, second_pick, cool_down_time]\n",
    "    time_name = [\"First pick\", \"Dip\", \"Second pick\", \"Cool down\", \"Sleep\"]\n",
    "    # print(sum(time_list) + sleep_time)\n",
    "    print(\"-------------------------------------\")\n",
    "    print(\"Get up at %0.1f\"%(start_time))\n",
    "    for i in range(len(time_list)):\n",
    "        start_time = (start_time + time_list[i])%24%12\n",
    "        print(\"-------------------------------------\")\n",
    "        print(time_name[i] + \" begin at %0.1f h\"%(start_time))\n",
    "        if \"pick\" in time_name[i] or \"Dip\" in time_name[i]:\n",
    "            mid_time = (time_list[i+1]/2 + start_time)%24%12\n",
    "            end_time = (time_list[i+1] + start_time)%24%12\n",
    "            print(time_name[i] + \"'s midlle begin at %0.1f h\"%(mid_time))\n",
    "            print(time_name[i] + \" end at %0.1f h\"%(end_time))\n",
    "    print(\"-------------------------------------\")"
   ]
  },
  {
   "cell_type": "code",
   "execution_count": 55,
   "metadata": {},
   "outputs": [
    {
     "name": "stdout",
     "output_type": "stream",
     "text": [
      "-------------------------------------\n",
      "Get up at 7.0\n",
      "-------------------------------------\n",
      "First pick begin at 8.5 h\n",
      "First pick's midlle begin at 11.5 h\n",
      "First pick end at 2.5 h\n",
      "-------------------------------------\n",
      "Dip begin at 2.5 h\n",
      "Dip's midlle begin at 4.5 h\n",
      "Dip end at 6.5 h\n",
      "-------------------------------------\n",
      "Second pick begin at 6.5 h\n",
      "Second pick's midlle begin at 8.5 h\n",
      "Second pick end at 10.5 h\n",
      "-------------------------------------\n",
      "Cool down begin at 10.5 h\n",
      "-------------------------------------\n",
      "Sleep begin at 0.0 h\n",
      "-------------------------------------\n"
     ]
    }
   ],
   "source": [
    "get_time_line(start_time=7)"
   ]
  }
 ],
 "metadata": {
  "interpreter": {
   "hash": "1ea1916ba77a8ccce6e1d32e626899833938a2712c86908bdef9d7973b0a757c"
  },
  "kernelspec": {
   "display_name": "Python 3.6.10 ('tensorflow')",
   "language": "python",
   "name": "python3"
  },
  "language_info": {
   "codemirror_mode": {
    "name": "ipython",
    "version": 3
   },
   "file_extension": ".py",
   "mimetype": "text/x-python",
   "name": "python",
   "nbconvert_exporter": "python",
   "pygments_lexer": "ipython3",
   "version": "3.6.10"
  },
  "orig_nbformat": 4
 },
 "nbformat": 4,
 "nbformat_minor": 2
}
